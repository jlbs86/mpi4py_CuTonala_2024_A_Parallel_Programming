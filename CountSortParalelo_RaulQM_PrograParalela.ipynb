{
  "nbformat": 4,
  "nbformat_minor": 0,
  "metadata": {
    "colab": {
      "provenance": [],
      "mount_file_id": "1Ud7CVjQJ_S86oVdK8GUw5XG7YHGf0Jqi",
      "authorship_tag": "ABX9TyMYQOOGhSDGMmeZ32XT4B1i",
      "include_colab_link": true
    },
    "kernelspec": {
      "name": "python3",
      "display_name": "Python 3"
    },
    "language_info": {
      "name": "python"
    }
  },
  "cells": [
    {
      "cell_type": "markdown",
      "metadata": {
        "id": "view-in-github",
        "colab_type": "text"
      },
      "source": [
        "<a href=\"https://colab.research.google.com/github/QuinteroR/CuTonala_2024_A/blob/RaulQM/CountSortParalelo_RaulQM_PrograParalela.ipynb\" target=\"_parent\"><img src=\"https://colab.research.google.com/assets/colab-badge.svg\" alt=\"Open In Colab\"/></a>"
      ]
    },
    {
      "cell_type": "code",
      "execution_count": 7,
      "metadata": {
        "colab": {
          "base_uri": "https://localhost:8080/"
        },
        "id": "e2m9w-_QVhfK",
        "outputId": "dc226219-92e7-4154-e3d4-28e0a8c238dd"
      },
      "outputs": [
        {
          "output_type": "stream",
          "name": "stdout",
          "text": [
            "Arreglo original: [4, 2, 2, 8, 3, 3, 1]\n",
            "Arreglo ordenado: [1, 2, 2, 3, 3, 4, 8]\n"
          ]
        }
      ],
      "source": [
        "from mpi4py import MPI\n",
        "import numpy as np\n",
        "\n",
        "def counting_sort_parallel(arr):\n",
        "    comm = MPI.COMM_WORLD\n",
        "    rank = comm.Get_rank()\n",
        "    size = comm.Get_size()\n",
        "\n",
        "    arr_np = np.array(arr, dtype=np.int32)\n",
        "    max_value = max(arr_np)\n",
        "    temp_arr = np.zeros_like(arr_np)\n",
        "\n",
        "    # Realizar la dispersión del arreglo local\n",
        "    comm.Scatter([arr_np, MPI.INT], [temp_arr, MPI.INT], root=0)\n",
        "\n",
        "    # Determinar el tamaño real del arreglo local\n",
        "    local_size = len(temp_arr)\n",
        "\n",
        "    # Crear un arreglo de conteo para contar las ocurrencias de cada elemento\n",
        "    count = np.zeros(max_value + 1, dtype=np.int32)\n",
        "\n",
        "    # Contar las ocurrencias de cada elemento en el arreglo local\n",
        "    for num in temp_arr:\n",
        "        count[num] += 1\n",
        "\n",
        "    # Recolectar los conteos de cada proceso\n",
        "    global_count = np.zeros_like(count)\n",
        "    comm.Allreduce(count, global_count, op=MPI.SUM)\n",
        "\n",
        "    # Reconstruir el arreglo ordenado utilizando el arreglo de conteo\n",
        "    sorted_arr = np.zeros(sum(global_count), dtype=np.int32)\n",
        "    offset = np.zeros(max_value + 1, dtype=np.int32)\n",
        "\n",
        "    for i in range(1, max_value + 1):\n",
        "        offset[i] = offset[i - 1] + global_count[i - 1]\n",
        "\n",
        "    for i in range(local_size):\n",
        "        sorted_arr[offset[temp_arr[i]]] = temp_arr[i]\n",
        "        offset[temp_arr[i]] += 1\n",
        "\n",
        "    return sorted_arr.tolist()\n",
        "\n",
        "# Ejemplo de uso\n",
        "if __name__ == \"__main__\":\n",
        "    arr = [4, 2, 2, 8, 3, 3, 1]\n",
        "    print(\"Arreglo original:\", arr)\n",
        "\n",
        "    sorted_arr = counting_sort_parallel(arr)\n",
        "    print(\"Arreglo ordenado:\", sorted_arr)\n",
        "\n"
      ]
    },
    {
      "cell_type": "code",
      "source": [],
      "metadata": {
        "id": "e-H6uqySb59Q"
      },
      "execution_count": null,
      "outputs": []
    }
  ]
}