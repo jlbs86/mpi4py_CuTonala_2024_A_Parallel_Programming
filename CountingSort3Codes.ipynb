{
  "nbformat": 4,
  "nbformat_minor": 0,
  "metadata": {
    "colab": {
      "provenance": [],
      "mount_file_id": "1Ud7CVjQJ_S86oVdK8GUw5XG7YHGf0Jqi",
      "authorship_tag": "ABX9TyN8UP/K8LJs5+stO1BEGFnx",
      "include_colab_link": true
    },
    "kernelspec": {
      "name": "python3",
      "display_name": "Python 3"
    },
    "language_info": {
      "name": "python"
    }
  },
  "cells": [
    {
      "cell_type": "markdown",
      "metadata": {
        "id": "view-in-github",
        "colab_type": "text"
      },
      "source": [
        "<a href=\"https://colab.research.google.com/github/QuinteroR/CuTonala_2024_A/blob/RaulQM/CountingSort3Codes.ipynb\" target=\"_parent\"><img src=\"https://colab.research.google.com/assets/colab-badge.svg\" alt=\"Open In Colab\"/></a>"
      ]
    },
    {
      "cell_type": "code",
      "source": [
        "!pip install mpi4py\n",
        "!pip install numba"
      ],
      "metadata": {
        "colab": {
          "base_uri": "https://localhost:8080/"
        },
        "id": "uiGZwyetmqfT",
        "outputId": "7903816e-2e96-4bac-8e9e-7bfce1704204"
      },
      "execution_count": 3,
      "outputs": [
        {
          "output_type": "stream",
          "name": "stdout",
          "text": [
            "Requirement already satisfied: mpi4py in /usr/local/lib/python3.10/dist-packages (3.1.6)\n",
            "Requirement already satisfied: numba in /usr/local/lib/python3.10/dist-packages (0.58.1)\n",
            "Requirement already satisfied: llvmlite<0.42,>=0.41.0dev0 in /usr/local/lib/python3.10/dist-packages (from numba) (0.41.1)\n",
            "Requirement already satisfied: numpy<1.27,>=1.22 in /usr/local/lib/python3.10/dist-packages (from numba) (1.25.2)\n"
          ]
        }
      ]
    },
    {
      "cell_type": "markdown",
      "source": [
        "# CountSort"
      ],
      "metadata": {
        "id": "54m9iNOXkVpg"
      }
    },
    {
      "cell_type": "code",
      "source": [
        "import time\n",
        "\n",
        "start_time = time.time() #inicia el conteo de tiempo\n",
        "\n",
        "def counting_sort(arr):\n",
        "    # Encontrar el rango máximo en el arreglo\n",
        "    max_value = max(arr)\n",
        "\n",
        "    # Crear un arreglo de conteo para contar las ocurrencias de cada elemento\n",
        "    count = [0] * (max_value + 1)\n",
        "\n",
        "    # Contar las ocurrencias de cada elemento en el arreglo original\n",
        "    for num in arr:\n",
        "        count[num] += 1\n",
        "\n",
        "    # Reconstruir el arreglo ordenado utilizando el arreglo de conteo\n",
        "    sorted_arr = []\n",
        "    for i in range(max_value + 1):\n",
        "        if count[i] > 0:\n",
        "            sorted_arr.extend([i] * count[i])\n",
        "\n",
        "    return sorted_arr\n",
        "\n",
        "# Ejemplo de uso\n",
        "arr = [4, 2, 2, 8, 3, 3, 1, 5, 6, 7, 3, 4, 5, 2, 3, 4, 6, 5, 12, 2, 3, 3, 2, 1, 5, 7, 8, 6, 7, 9, 5, 6, 3, 7, 5, 9, 10, 11, 24, 35, 14, 55]\n",
        "print(\"Arreglo original:\", arr)\n",
        "\n",
        "sorted_arr = counting_sort(arr)\n",
        "print(\"Arreglo ordenado:\", sorted_arr)\n",
        "\n",
        "time.sleep(1)\n",
        "end_time = time.time()\n",
        "execution_time = end_time - start_time\n",
        "print(\"tiempo de ejecución = \", execution_time)"
      ],
      "metadata": {
        "colab": {
          "base_uri": "https://localhost:8080/"
        },
        "id": "Nx-55PGlkVHi",
        "outputId": "d31f5767-61fe-42f5-c466-464c90cab130"
      },
      "execution_count": 1,
      "outputs": [
        {
          "output_type": "stream",
          "name": "stdout",
          "text": [
            "Arreglo original: [4, 2, 2, 8, 3, 3, 1, 5, 6, 7, 3, 4, 5, 2, 3, 4, 6, 5, 12, 2, 3, 3, 2, 1, 5, 7, 8, 6, 7, 9, 5, 6, 3, 7, 5, 9, 10, 11, 24, 35, 14, 55]\n",
            "Arreglo ordenado: [1, 1, 2, 2, 2, 2, 2, 3, 3, 3, 3, 3, 3, 3, 4, 4, 4, 5, 5, 5, 5, 5, 5, 6, 6, 6, 6, 7, 7, 7, 7, 8, 8, 9, 9, 10, 11, 12, 14, 24, 35, 55]\n",
            "tiempo de ejecución =  1.0056161880493164\n"
          ]
        }
      ]
    },
    {
      "cell_type": "markdown",
      "source": [
        "# CountSort Paralelizado con Mpi4Py"
      ],
      "metadata": {
        "id": "M_dd3wKekqER"
      }
    },
    {
      "cell_type": "code",
      "source": [
        "\n",
        "\n",
        "from mpi4py import MPI\n",
        "import numpy as np\n",
        "\n",
        "start_time = MPI.Wtime()\n",
        "\n",
        "def counting_sort_parallel(arr):\n",
        "    comm = MPI.COMM_WORLD\n",
        "    rank = comm.Get_rank()\n",
        "    size = comm.Get_size()\n",
        "\n",
        "    arr_np = np.array(arr, dtype=np.int32)\n",
        "    max_value = max(arr_np)\n",
        "    temp_arr = np.zeros_like(arr_np)\n",
        "\n",
        "    # Realizar la dispersión del arreglo local\n",
        "    comm.Scatter([arr_np, MPI.INT], [temp_arr, MPI.INT], root=0)\n",
        "\n",
        "    # Determinar el tamaño real del arreglo local\n",
        "    local_size = len(temp_arr)\n",
        "\n",
        "    # Crear un arreglo de conteo para contar las ocurrencias de cada elemento\n",
        "    count = np.zeros(max_value + 1, dtype=np.int32)\n",
        "\n",
        "    # Contar las ocurrencias de cada elemento en el arreglo local\n",
        "    for num in temp_arr:\n",
        "        count[num] += 1\n",
        "\n",
        "    # Recolectar los conteos de cada proceso\n",
        "    global_count = np.zeros_like(count)\n",
        "    comm.Allreduce(count, global_count, op=MPI.SUM)\n",
        "\n",
        "    # Reconstruir el arreglo ordenado utilizando el arreglo de conteo\n",
        "    sorted_arr = np.zeros(sum(global_count), dtype=np.int32)\n",
        "    offset = np.zeros(max_value + 1, dtype=np.int32)\n",
        "\n",
        "    for i in range(1, max_value + 1):\n",
        "        offset[i] = offset[i - 1] + global_count[i - 1]\n",
        "\n",
        "    for i in range(local_size):\n",
        "        sorted_arr[offset[temp_arr[i]]] = temp_arr[i]\n",
        "        offset[temp_arr[i]] += 1\n",
        "\n",
        "    return sorted_arr.tolist()\n",
        "\n",
        "# Ejemplo de uso\n",
        "if __name__ == \"__main__\":\n",
        "    arr = [4, 2, 2, 8, 3, 3, 1, 5, 6, 7, 3, 4, 5, 2, 3, 4, 6, 5, 12, 2, 3, 3, 2, 1, 5, 7, 8, 6, 7, 9, 5, 6, 3, 7, 5, 9, 10, 11, 24, 35, 14, 55]\n",
        "    print(\"Arreglo original:\", arr)\n",
        "\n",
        "    sorted_arr = counting_sort_parallel(arr)\n",
        "    print(\"Arreglo ordenado:\", sorted_arr)\n",
        "\n",
        "    end_time = MPI.Wtime()\n",
        "    print(f\"Tiempo de ejecución =  {end_time - start_time:.8f} segundos\")"
      ],
      "metadata": {
        "colab": {
          "base_uri": "https://localhost:8080/"
        },
        "id": "1Rjou8cWkpoz",
        "outputId": "c8ab1a87-705e-4166-f8fe-8a661d51d22f"
      },
      "execution_count": 7,
      "outputs": [
        {
          "output_type": "stream",
          "name": "stdout",
          "text": [
            "Arreglo original: [4, 2, 2, 8, 3, 3, 1, 5, 6, 7, 3, 4, 5, 2, 3, 4, 6, 5, 12, 2, 3, 3, 2, 1, 5, 7, 8, 6, 7, 9, 5, 6, 3, 7, 5, 9, 10, 11, 24, 35, 14, 55]\n",
            "Arreglo ordenado: [1, 1, 2, 2, 2, 2, 2, 3, 3, 3, 3, 3, 3, 3, 4, 4, 4, 5, 5, 5, 5, 5, 5, 6, 6, 6, 6, 7, 7, 7, 7, 8, 8, 9, 9, 10, 11, 12, 14, 24, 35, 55]\n",
            "Tiempo de ejecución =  0.00604732 segundos\n"
          ]
        }
      ]
    },
    {
      "cell_type": "markdown",
      "source": [
        "# Countsort Paralelizado con Numba"
      ],
      "metadata": {
        "id": "sGHUAYNMn8vg"
      }
    },
    {
      "cell_type": "code",
      "source": [
        "# Importamos las librerias\n",
        "import numpy as np\n",
        "from numba import njit, prange\n",
        "\n",
        "start_time = time.time() #inicia el conteo de tiempo\n",
        "\n",
        "@njit(parallel=True) #Utilizamos los decoradores\n",
        "def counting_sort_parallel(arr):\n",
        "    max_value = np.max(arr)\n",
        "    count = np.zeros(max_value + 1, dtype=np.int32)\n",
        "\n",
        "    # Cuenta las apariciones de cada elemento en paralelo\n",
        "    for num in prange(len(arr)):\n",
        "        count[arr[num]] += 1\n",
        "\n",
        "    sorted_arr = np.empty(len(arr), dtype=arr.dtype)\n",
        "    index = 0\n",
        "\n",
        "    # Reconstruimos la matriz ordenada en paralelo\n",
        "    for i in prange(len(count)):\n",
        "        for j in range(count[i]):\n",
        "            sorted_arr[index] = i\n",
        "            index += 1\n",
        "\n",
        "    return sorted_arr\n",
        "\n",
        "# ejemplificamos\n",
        "arr = np.array([4, 2, 2, 8, 3, 3, 1, 5, 6, 7, 3, 4, 5, 2, 3, 4, 6, 5, 12, 2, 3, 3, 2, 1, 5, 7, 8, 6, 7, 9, 5, 6, 3, 7, 5, 9, 10, 11, 24, 35, 14, 55], dtype=np.int64)\n",
        "print(\"Original array:\", arr)\n",
        "\n",
        "sorted_arr = counting_sort_parallel(arr)\n",
        "print(\"Sorted array:\", sorted_arr)\n",
        "\n",
        "time.sleep(1)\n",
        "end_time = time.time()\n",
        "execution_time = end_time - start_time\n",
        "print(\"tiempo de ejecución = \", execution_time)"
      ],
      "metadata": {
        "colab": {
          "base_uri": "https://localhost:8080/"
        },
        "id": "4R88BMykoBzS",
        "outputId": "0142bd98-7ac8-4e54-bc9e-d2d6830b656c"
      },
      "execution_count": 10,
      "outputs": [
        {
          "output_type": "stream",
          "name": "stdout",
          "text": [
            "Original array: [ 4  2  2  8  3  3  1  5  6  7  3  4  5  2  3  4  6  5 12  2  3  3  2  1\n",
            "  5  7  8  6  7  9  5  6  3  7  5  9 10 11 24 35 14 55]\n",
            "Sorted array: [ 1  1  2  2  2  2  2  3  3  3  3  3  3  3  4  4  4  5  5  5  5  5  5  6\n",
            "  6  6  6  7  7  7  7  8  8  9  9 10 11 12 14 24 35 55]\n",
            "tiempo de ejecución =  2.9646246433258057\n"
          ]
        }
      ]
    }
  ]
}