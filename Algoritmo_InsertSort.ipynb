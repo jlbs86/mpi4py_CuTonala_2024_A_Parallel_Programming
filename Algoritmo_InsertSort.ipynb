{
  "nbformat": 4,
  "nbformat_minor": 0,
  "metadata": {
    "colab": {
      "provenance": [],
      "include_colab_link": true
    },
    "kernelspec": {
      "name": "python3",
      "display_name": "Python 3"
    },
    "language_info": {
      "name": "python"
    }
  },
  "cells": [
    {
      "cell_type": "markdown",
      "metadata": {
        "id": "view-in-github",
        "colab_type": "text"
      },
      "source": [
        "<a href=\"https://colab.research.google.com/github/QuinteroR/CuTonala_2024_A/blob/RaulQM/Algoritmo_InsertSort.ipynb\" target=\"_parent\"><img src=\"https://colab.research.google.com/assets/colab-badge.svg\" alt=\"Open In Colab\"/></a>"
      ]
    },
    {
      "cell_type": "code",
      "execution_count": null,
      "metadata": {
        "colab": {
          "base_uri": "https://localhost:8080/"
        },
        "id": "Otci-ED_yk6_",
        "outputId": "584c3ded-01ea-49ff-c689-88bb863f0f78"
      },
      "outputs": [
        {
          "output_type": "stream",
          "name": "stdout",
          "text": [
            "Collecting mpi4py\n",
            "  Downloading mpi4py-3.1.6.tar.gz (2.4 MB)\n",
            "\u001b[2K     \u001b[90m━━━━━━━━━━━━━━━━━━━━━━━━━━━━━━━━━━━━━━━━\u001b[0m \u001b[32m2.4/2.4 MB\u001b[0m \u001b[31m8.1 MB/s\u001b[0m eta \u001b[36m0:00:00\u001b[0m\n",
            "\u001b[?25h  Installing build dependencies ... \u001b[?25l\u001b[?25hdone\n",
            "  Getting requirements to build wheel ... \u001b[?25l\u001b[?25hdone\n",
            "  Preparing metadata (pyproject.toml) ... \u001b[?25l\u001b[?25hdone\n",
            "Building wheels for collected packages: mpi4py\n",
            "  Building wheel for mpi4py (pyproject.toml) ... \u001b[?25l\u001b[?25hdone\n",
            "  Created wheel for mpi4py: filename=mpi4py-3.1.6-cp310-cp310-linux_x86_64.whl size=2746310 sha256=5b627ee6d2a080ca33b79fa166f40898c8c78f296973014b1073309eac653de1\n",
            "  Stored in directory: /root/.cache/pip/wheels/4c/ca/89/8fc1fb1c620afca13bb41c630b1f948bbf446e0aaa4b762e10\n",
            "Successfully built mpi4py\n",
            "Installing collected packages: mpi4py\n",
            "Successfully installed mpi4py-3.1.6\n"
          ]
        }
      ],
      "source": [
        "!pip install mpi4py"
      ]
    },
    {
      "cell_type": "code",
      "source": [
        "from mpi4py import MPI\n",
        "\n",
        "def insertion_sort(arr):\n",
        "    n = len(arr)\n",
        "    for i in range(1, n):\n",
        "        current_value = arr[i]  # Guarda el valor actual a insertar\n",
        "        position = i\n",
        "\n",
        "        # Mueve los elementos del subarreglo ordenado hacia la derecha\n",
        "        # para hacer espacio para el valor actual\n",
        "        while position > 0 and arr[position - 1] > current_value:\n",
        "            arr[position] = arr[position - 1]\n",
        "            position -= 1\n",
        "\n",
        "        # Inserta el valor actual en la posición correcta\n",
        "        arr[position] = current_value\n",
        "\n",
        "# Función para dividir el arreglo en partes iguales\n",
        "def split_array(arr, size):\n",
        "    n = len(arr)\n",
        "    part_size = n // size\n",
        "    remainder = n % size\n",
        "    send_counts = [part_size + 1 if i < remainder else part_size for i in range(size)]\n",
        "    displacements = [sum(send_counts[:i]) for i in range(size)]\n",
        "    return [arr[displacements[i]:displacements[i] + send_counts[i]] for i in range(size)]\n",
        "\n",
        "# Función para unir las partes ordenadas\n",
        "def merge_sorted_parts(sorted_parts):\n",
        "    return sorted(sum(sorted_parts, []))\n",
        "\n",
        "if __name__ == \"__main__\":\n",
        "    comm = MPI.COMM_WORLD\n",
        "    rank = comm.Get_rank()\n",
        "    size = comm.Get_size()\n",
        "\n",
        "    if rank == 0:\n",
        "        arr = [5, 2, 4, 6, 1, 3]\n",
        "    else:\n",
        "        arr = None\n",
        "\n",
        "    # Dividir el arreglo en partes iguales\n",
        "    arr_part = comm.scatter(split_array(arr, size), root=0)\n",
        "\n",
        "    # Ordenar la parte local\n",
        "    insertion_sort(arr_part)\n",
        "\n",
        "    # Recopilar partes ordenadas\n",
        "    sorted_parts = comm.gather(arr_part, root=0)\n",
        "\n",
        "    # Unir partes ordenadas\n",
        "    if rank == 0:\n",
        "        sorted_arr = merge_sorted_parts(sorted_parts)\n",
        "        print(\"Lista original:\", arr)\n",
        "        print(\"Lista ordenada:\", sorted_arr)"
      ],
      "metadata": {
        "id": "Ve6Cf-snzMH1",
        "outputId": "f64eaa38-cbaf-4f19-d081-f3ae49cf9a67",
        "colab": {
          "base_uri": "https://localhost:8080/"
        }
      },
      "execution_count": null,
      "outputs": [
        {
          "output_type": "stream",
          "name": "stdout",
          "text": [
            "Lista original: [5, 2, 4, 6, 1, 3]\n",
            "Lista ordenada: [1, 2, 3, 4, 5, 6]\n"
          ]
        }
      ]
    }
  ]
}