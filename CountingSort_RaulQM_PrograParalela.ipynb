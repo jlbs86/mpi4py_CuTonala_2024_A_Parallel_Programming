{
  "nbformat": 4,
  "nbformat_minor": 0,
  "metadata": {
    "colab": {
      "provenance": [],
      "mount_file_id": "1Ud7CVjQJ_S86oVdK8GUw5XG7YHGf0Jqi",
      "authorship_tag": "ABX9TyOEn0e9oR2qDU6Y7plnFmFQ",
      "include_colab_link": true
    },
    "kernelspec": {
      "name": "python3",
      "display_name": "Python 3"
    },
    "language_info": {
      "name": "python"
    }
  },
  "cells": [
    {
      "cell_type": "markdown",
      "metadata": {
        "id": "view-in-github",
        "colab_type": "text"
      },
      "source": [
        "<a href=\"https://colab.research.google.com/github/QuinteroR/CuTonala_2024_A/blob/RaulQM/CountingSort_RaulQM_PrograParalela.ipynb\" target=\"_parent\"><img src=\"https://colab.research.google.com/assets/colab-badge.svg\" alt=\"Open In Colab\"/></a>"
      ]
    },
    {
      "cell_type": "code",
      "execution_count": 9,
      "metadata": {
        "colab": {
          "base_uri": "https://localhost:8080/"
        },
        "id": "e2m9w-_QVhfK",
        "outputId": "4a8095db-6ec0-4db8-8b76-ef48624f84c5"
      },
      "outputs": [
        {
          "output_type": "stream",
          "name": "stdout",
          "text": [
            "Arreglo original: [4, 2, 2, 8, 3, 3, 1]\n",
            "Arreglo ordenado: [1, 2, 2, 3, 3, 4, 8]\n"
          ]
        }
      ],
      "source": [
        "def counting_sort(arr):\n",
        "    # Encontrar el rango máximo en el arreglo\n",
        "    max_value = max(arr)\n",
        "\n",
        "    # Crear un arreglo de conteo para contar las ocurrencias de cada elemento\n",
        "    count = [0] * (max_value + 1)\n",
        "\n",
        "    # Contar las ocurrencias de cada elemento en el arreglo original\n",
        "    for num in arr:\n",
        "        count[num] += 1\n",
        "\n",
        "    # Reconstruir el arreglo ordenado utilizando el arreglo de conteo\n",
        "    sorted_arr = []\n",
        "    for i in range(max_value + 1):\n",
        "        if count[i] > 0:\n",
        "            sorted_arr.extend([i] * count[i])\n",
        "\n",
        "    return sorted_arr\n",
        "\n",
        "# Ejemplo de uso\n",
        "arr = [4, 2, 2, 8, 3, 3, 1]\n",
        "print(\"Arreglo original:\", arr)\n",
        "\n",
        "sorted_arr = counting_sort(arr)\n",
        "print(\"Arreglo ordenado:\", sorted_arr)"
      ]
    }
  ]
}