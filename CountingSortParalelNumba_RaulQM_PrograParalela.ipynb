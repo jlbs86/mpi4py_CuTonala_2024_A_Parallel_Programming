{
  "nbformat": 4,
  "nbformat_minor": 0,
  "metadata": {
    "colab": {
      "provenance": [],
      "mount_file_id": "1Ud7CVjQJ_S86oVdK8GUw5XG7YHGf0Jqi",
      "authorship_tag": "ABX9TyP0dFdvcFsYNqOL+80nhbxU",
      "include_colab_link": true
    },
    "kernelspec": {
      "name": "python3",
      "display_name": "Python 3"
    },
    "language_info": {
      "name": "python"
    }
  },
  "cells": [
    {
      "cell_type": "markdown",
      "metadata": {
        "id": "view-in-github",
        "colab_type": "text"
      },
      "source": [
        "<a href=\"https://colab.research.google.com/github/QuinteroR/CuTonala_2024_A/blob/RaulQM/CountingSortParalelNumba_RaulQM_PrograParalela.ipynb\" target=\"_parent\"><img src=\"https://colab.research.google.com/assets/colab-badge.svg\" alt=\"Open In Colab\"/></a>"
      ]
    },
    {
      "cell_type": "code",
      "execution_count": 10,
      "metadata": {
        "colab": {
          "base_uri": "https://localhost:8080/"
        },
        "id": "e2m9w-_QVhfK",
        "outputId": "389bc8ea-132a-40ee-fbc4-093e3c0fffcf"
      },
      "outputs": [
        {
          "output_type": "stream",
          "name": "stdout",
          "text": [
            "Requirement already satisfied: numba in /usr/local/lib/python3.10/dist-packages (0.58.1)\n",
            "Requirement already satisfied: llvmlite<0.42,>=0.41.0dev0 in /usr/local/lib/python3.10/dist-packages (from numba) (0.41.1)\n",
            "Requirement already satisfied: numpy<1.27,>=1.22 in /usr/local/lib/python3.10/dist-packages (from numba) (1.25.2)\n",
            "Original array: [4 2 2 8 3 3 1]\n",
            "Sorted array: [1 2 2 3 3 4 8]\n"
          ]
        }
      ],
      "source": [
        "# Instalamos Numba\n",
        "!pip install numba\n",
        "\n",
        "# Importamos las librerias\n",
        "import numpy as np\n",
        "from numba import njit, prange\n",
        "\n",
        "@njit(parallel=True) #Utilizamos los decoradores\n",
        "def counting_sort_parallel(arr):\n",
        "    max_value = np.max(arr)\n",
        "    count = np.zeros(max_value + 1, dtype=np.int32)\n",
        "\n",
        "    # Cuenta las apariciones de cada elemento en paralelo\n",
        "    for num in prange(len(arr)):\n",
        "        count[arr[num]] += 1\n",
        "\n",
        "    sorted_arr = np.empty(len(arr), dtype=arr.dtype)\n",
        "    index = 0\n",
        "\n",
        "    # Reconstruimos la matriz ordenada en paralelo\n",
        "    for i in prange(len(count)):\n",
        "        for j in range(count[i]):\n",
        "            sorted_arr[index] = i\n",
        "            index += 1\n",
        "\n",
        "    return sorted_arr\n",
        "\n",
        "# ejemplificamos\n",
        "arr = np.array([4, 2, 2, 8, 3, 3, 1], dtype=np.int32)\n",
        "print(\"Original array:\", arr)\n",
        "\n",
        "sorted_arr = counting_sort_parallel(arr)\n",
        "print(\"Sorted array:\", sorted_arr)\n"
      ]
    }
  ]
}